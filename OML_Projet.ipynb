{
  "nbformat": 4,
  "nbformat_minor": 0,
  "metadata": {
    "colab": {
      "provenance": [],
      "toc_visible": true,
      "include_colab_link": true
    },
    "kernelspec": {
      "name": "python3",
      "display_name": "Python 3"
    },
    "language_info": {
      "name": "python"
    }
  },
  "cells": [
    {
      "cell_type": "markdown",
      "metadata": {
        "id": "view-in-github",
        "colab_type": "text"
      },
      "source": [
        "<a href=\"https://colab.research.google.com/github/HoarfrostRaven/Optimization-for-Machine-Learning/blob/main/OML_Projet.ipynb\" target=\"_parent\"><img src=\"https://colab.research.google.com/assets/colab-badge.svg\" alt=\"Open In Colab\"/></a>"
      ]
    },
    {
      "cell_type": "markdown",
      "source": [
        "# 1 Optimization with $\\ell_2$ regularization"
      ],
      "metadata": {
        "id": "XquHTqjxj18C"
      }
    },
    {
      "cell_type": "markdown",
      "source": [
        "Given a (data-fitting) function $ f : \\mathbb{R}^d \\to \\mathbb{R} $, we consider the family of problems\n",
        "\n",
        "$$\n",
        "\\min_{w \\in \\mathbb{R}^d} f(w) + \\frac{\\lambda}{2} \\|w\\|^2,\n",
        "$$\n",
        "\n",
        "where $ \\|w\\|^2 = \\sum_{j=1}^{d} w_j^2 $ and $ \\lambda \\geq 0 $ is a regularization parameter. When $ \\lambda = 0 $, we recover the original problem (1). When $ \\lambda \\to \\infty $, one can show that the problem (3) is equivalent to\n",
        "\n",
        "$$\n",
        "\\min_{w \\in \\mathbb{R}^d} \\frac{1}{2} \\|w\\|^2.\n",
        "$$"
      ],
      "metadata": {
        "id": "FwLb0thElyqn"
      }
    },
    {
      "cell_type": "markdown",
      "source": [
        "## **Question 1.1**  "
      ],
      "metadata": {
        "id": "kLFCRVu2nLFm"
      }
    },
    {
      "cell_type": "markdown",
      "source": [
        "Consider the toy function\n",
        "$$\n",
        "f^{toy}(w) = \\frac{1}{4} \\|Xw - y\\|^2\n",
        "$$\n",
        "with\n",
        "\n",
        "$$\n",
        "X = \\begin{bmatrix} 1 & 0 \\\\ 0 & 0 \\end{bmatrix}, \\quad y = \\begin{bmatrix} 1 \\\\ 1 \\end{bmatrix}.\n",
        "$$\n",
        "\n",
        "As seen in class, this function is $ C^1 $ and convex."
      ],
      "metadata": {
        "id": "ZzGvFrC8r2-P"
      }
    },
    {
      "cell_type": "markdown",
      "source": [
        "### **(a)**"
      ],
      "metadata": {
        "id": "FdCXFKR0nNjQ"
      }
    },
    {
      "cell_type": "markdown",
      "source": [
        "Consider the problem  \n",
        "$$\n",
        "\\min_{w \\in \\mathbb{R}^d} f^{toy}(w).\n",
        "$$\n",
        "Show that $ f^{toy} $ has an infinite number of global minima, and give a characterization of the set of global minima for $ f^{toy} $."
      ],
      "metadata": {
        "id": "TMtcELLkrrO2"
      }
    },
    {
      "cell_type": "markdown",
      "source": [
        "#### <span style=\"color:rgb(92,29,79)\">Answer to question</span>"
      ],
      "metadata": {
        "id": "bOVOd0gfntWF"
      }
    },
    {
      "cell_type": "markdown",
      "source": [
        "We expand the objective function:\n",
        "\n",
        "$$f^{toy}(w) = \\frac{1}{4} \\|Xw - y\\|^2$$\n",
        "\n",
        "Given\n",
        "\n",
        "$$X = \\begin{bmatrix} 1 & 0 \\\\ 0 & 0 \\end{bmatrix}, \\quad y = \\begin{bmatrix} 1 \\\\ 1 \\end{bmatrix}$$\n",
        "\n",
        "Compute $Xw - y$:\n",
        "\n",
        "$$Xw - y = \\begin{bmatrix} w_1 - 1 \\\\ -1 \\end{bmatrix}$$\n",
        "\n",
        "Therefore, the squared norm is:\n",
        "\n",
        "$$\\|Xw - y\\|^2 = (w_1 - 1)^2 + 1$$\n",
        "\n",
        "Thus,\n",
        "\n",
        "$$f^{toy}(w) = \\frac{1}{4} ((w_1 - 1)^2 + 1)$$\n",
        "\n",
        "To minimize this function, we only need to minimize $(w_1 - 1)^2$, whose minimum value is 0, achieved at $w_1 = 1$. However, $w_2$ is unconstrained and can be any real number.\n",
        "\n",
        "**Conclusion:**\n",
        "\n",
        "The set of global minima is:\n",
        "\n",
        "$$\\{ w \\in \\mathbb{R}^2 \\mid w_1 = 1, w_2 \\in \\mathbb{R} \\}$$"
      ],
      "metadata": {
        "id": "yjK-Iezakg6I"
      }
    },
    {
      "cell_type": "markdown",
      "source": [
        "### **(b)**"
      ],
      "metadata": {
        "id": "H-G1Lwj1nADT"
      }
    },
    {
      "cell_type": "markdown",
      "source": [
        "Consider the problem  \n",
        "$$\n",
        "\\min_{w \\in \\mathbb{R}^d} f^{toy}(w) + \\frac{\\lambda}{2} \\|w\\|^2\n",
        "$$\n",
        "with $ \\lambda > 0 $. Show that problem (6) has a unique solution."
      ],
      "metadata": {
        "id": "fZHW4pXiruhI"
      }
    },
    {
      "cell_type": "markdown",
      "source": [
        "#### <span style=\"color:rgb(92,29,79)\">Answer to question</span>"
      ],
      "metadata": {
        "id": "ID3pfN_sof46"
      }
    },
    {
      "cell_type": "markdown",
      "source": [
        "Consider the objective function:\n",
        "\n",
        "$$\\min_{w \\in \\mathbb{R}^2} \\frac{1}{4} ((w_1 - 1)^2 + 1) + \\frac{\\lambda}{2} (w_1^2 + w_2^2)$$\n",
        "\n",
        "Expanding:\n",
        "\n",
        "$$g(w) = \\frac{1}{4} (w_1^2 - 2w_1 + 1 + 1) + \\frac{\\lambda}{2} (w_1^2 + w_2^2)$$\n",
        "\n",
        "$$= \\frac{1}{4} w_1^2 - \\frac{1}{2} w_1 + \\frac{1}{2} + \\frac{\\lambda}{2} w_1^2 + \\frac{\\lambda}{2} w_2^2$$\n",
        "\n",
        "Taking derivatives and setting them to zero:\n",
        "\n",
        "  1. Taking the derivative with respect to $w_1$:  \n",
        "     $$\\frac{1}{2} w_1 - \\frac{1}{2} + \\lambda w_1 = 0$$\n",
        "     $$w_1 \\left(\\frac{1}{2} + \\lambda \\right) = \\frac{1}{2}$$\n",
        "     $$w_1 = \\frac{1}{1 + 2\\lambda}$$\n",
        "\n",
        "  2. Taking the derivative with respect to $w_2$:  \n",
        "     $$\\lambda w_2 = 0 \\Rightarrow w_2 = 0$$\n",
        "\n",
        "Since the objective function is strictly convex (due to the regularization term $\\lambda \\|w\\|^2$), the solution is unique.  \n",
        "\n",
        "**Conclusion:**  \n",
        "\n",
        "The unique solution is:  \n",
        "\n",
        "$$w_{\\lambda} = \\begin{bmatrix} \\frac{1}{1 + 2\\lambda} \\\\ 0 \\end{bmatrix}$$"
      ],
      "metadata": {
        "id": "D8JdIShRo3pz"
      }
    },
    {
      "cell_type": "markdown",
      "source": [
        "### **(c)**  "
      ],
      "metadata": {
        "id": "_hK6caxFnDfQ"
      }
    },
    {
      "cell_type": "markdown",
      "source": [
        "Suppose now that we are given a new data sample  \n",
        "$$\n",
        "\\left( x^+ = \\begin{bmatrix} -1 \\\\ 0 \\end{bmatrix}, y^+ = 1 \\right).\n",
        "$$\n",
        "Given a global minimum $ w_0 $ for  \n",
        "$$\n",
        "\\min_{w \\in \\mathbb{R}^d} f^{toy}(w)\n",
        "$$\n",
        "and the global minimum $ w_{\\lambda} $ for (6), show that there is a range of values for $ \\lambda $ such that\n",
        "\n",
        "$$\n",
        "\\frac{1}{2} \\left( (x^+)^T w_{\\lambda} - y^+ \\right)^2 < \\frac{1}{2} \\left( (x^+)^T w_0 - y^+ \\right).\n",
        "$$"
      ],
      "metadata": {
        "id": "qWOVGGAUrx1h"
      }
    },
    {
      "cell_type": "markdown",
      "source": [
        "#### <span style=\"color:rgb(92,29,79)\">Answer to question</span>"
      ],
      "metadata": {
        "id": "9x2v2kfOo1VA"
      }
    },
    {
      "cell_type": "markdown",
      "source": [
        "New data point:  \n",
        "\n",
        "$$x^+ = \\begin{bmatrix} -1 \\\\ 0 \\end{bmatrix}, \\quad y^+ = 1$$  \n",
        "\n",
        "Compute the prediction error:  \n",
        "\n",
        "$$\\frac{1}{2} ([x^+]^T w - y^+)^2$$  \n",
        "\n",
        "1. For **$w_0$** (global optimal solution of $f_{toy}$):  \n",
        "   Take $w_0 = \\begin{bmatrix} 1 \\\\ b \\end{bmatrix}$ (arbitrary $b$):  \n",
        "   $$x^+ w_0 = (-1)(1) + (0)(b) = -1$$  \n",
        "   $$\\frac{1}{2} (-1 - 1)^2 = \\frac{1}{2} (4) = 2$$  \n",
        "\n",
        "2. For **$w_{\\lambda}$**:  \n",
        "   Take $w_{\\lambda} = \\begin{bmatrix} \\frac{1}{1 + 2\\lambda} \\\\ 0 \\end{bmatrix}$:  \n",
        "   $$x^+ w_{\\lambda} = (-1) \\cdot \\frac{1}{1 + 2\\lambda} = -\\frac{1}{1 + 2\\lambda}$$  \n",
        "   $$\\frac{1}{2} \\left(-\\frac{1}{1 + 2\\lambda} - 1\\right)^2$$  \n",
        "   $$= \\frac{1}{2} \\left(\\frac{-1 - (1 + 2\\lambda)}{1 + 2\\lambda} \\right)^2$$  \n",
        "   $$= \\frac{1}{2} \\left(\\frac{-2 - 2\\lambda}{1 + 2\\lambda} \\right)^2$$  \n",
        "   $$= \\frac{1}{2} \\left(\\frac{2(1 + \\lambda)}{1 + 2\\lambda} \\right)^2$$  \n",
        "   $$= \\frac{2 (1 + \\lambda)^2}{(1 + 2\\lambda)^2}$$  \n",
        "\n",
        "**Requirement:**  \n",
        "\n",
        "$$\\frac{2(1+\\lambda)^2}{(1+2\\lambda)^2} < 2$$  \n",
        "\n",
        "Divide both sides by 2:  \n",
        "\n",
        "$$\\frac{(1+\\lambda)^2}{(1+2\\lambda)^2} < 1$$  \n",
        "\n",
        "$$(1+\\lambda)^2 < (1+2\\lambda)^2$$  \n",
        "\n",
        "Taking square roots (valid since both sides are non-negative):  \n",
        "\n",
        "$$1+\\lambda < 1+2\\lambda$$  \n",
        "\n",
        "$$\\lambda < 2\\lambda$$  \n",
        "\n",
        "$$0 < \\lambda$$  \n",
        "\n",
        "**Conclusion:**  \n",
        "\n",
        "For any $\\lambda > 0$, the prediction error of the regularized solution $w_{\\lambda}$ is always smaller than that of $w_0$. In other words, the inequality holds universally when $\\lambda > 0$."
      ],
      "metadata": {
        "id": "GActfbayq7tH"
      }
    },
    {
      "cell_type": "markdown",
      "source": [
        "# 2 Experiments on synthetic data"
      ],
      "metadata": {
        "id": "LxOI5SuTjT9J"
      }
    },
    {
      "cell_type": "markdown",
      "source": [
        "In this part, we will consider the synthetic data used in the course notebooks, in the context of linear regression."
      ],
      "metadata": {
        "id": "yEsg2uO6r-7t"
      }
    },
    {
      "cell_type": "markdown",
      "source": [
        "## Implementation 2.1"
      ],
      "metadata": {
        "id": "hztnAKOHsBox"
      }
    },
    {
      "cell_type": "markdown",
      "source": [
        "Using the functions given in the lab sessions, generate two datasets for linear regression based on the same ground truth vector."
      ],
      "metadata": {
        "id": "BFKoxVSUsjcb"
      }
    },
    {
      "cell_type": "markdown",
      "source": [
        "#### <span style=\"color:rgb(92,29,79)\">Answer to question</span>"
      ],
      "metadata": {
        "id": "WNvzSArlqVoy"
      }
    },
    {
      "cell_type": "code",
      "execution_count": 1,
      "metadata": {
        "id": "AIlabFQ5RZew"
      },
      "outputs": [],
      "source": [
        "# Import necessary libraries\n",
        "import numpy as np\n",
        "import matplotlib.pyplot as plt\n",
        "from scipy.linalg import toeplitz, norm, svdvals\n",
        "from numpy.random import multivariate_normal, randn"
      ]
    },
    {
      "cell_type": "code",
      "source": [
        "# Generate data for linear least squares. This code is based on a generator proposed by Alexandre Gramfort (INRIA).\n",
        "def simu_linreg(wtruth, n, std=1., corr=0.5):\n",
        "    \"\"\"\n",
        "    Generation of data from a linear trend corrupted by Gaussian noise.\n",
        "\n",
        "    Inputs\n",
        "    ----------\n",
        "    wtruth: np.ndarray, shape=(d,)\n",
        "        Ground truth coefficients\n",
        "\n",
        "    n: int\n",
        "        Sample size\n",
        "\n",
        "    std: float, default=1.\n",
        "        Standard deviation for the noise\n",
        "\n",
        "    corr: float, default=0.5\n",
        "        Correlation for the feature matrix\n",
        "\n",
        "    Outputs\n",
        "    ------------\n",
        "    X: Feature matrix\n",
        "    y: Label vector\n",
        "\n",
        "    \"\"\"\n",
        "    d = wtruth.shape[0]\n",
        "    cov = toeplitz(corr ** np.arange(0, d))\n",
        "    X = multivariate_normal(np.zeros(d), cov, size=n)\n",
        "    noise = std * randn(n)\n",
        "    # Main relationship\n",
        "    y = X.dot(wtruth) + noise\n",
        "    return X, y"
      ],
      "metadata": {
        "id": "ezYFHz788jB8"
      },
      "execution_count": 2,
      "outputs": []
    },
    {
      "cell_type": "code",
      "source": [
        "# Generate two datasets (Question 2.1)\n",
        "np.random.seed(42)\n",
        "d = 50\n",
        "n = 1000\n",
        "w_star = (-1) ** np.arange(d) * np.exp(-np.arange(d) / 10.)  # True weight vector"
      ],
      "metadata": {
        "id": "PTD8PmmY8fAA"
      },
      "execution_count": 3,
      "outputs": []
    },
    {
      "cell_type": "code",
      "source": [
        "# Generate the first dataset (X1, y1)\n",
        "X1, y1 = simu_linreg(w_star, n, std=3., corr=0.1)"
      ],
      "metadata": {
        "id": "7h9FIGOB8c3i"
      },
      "execution_count": 4,
      "outputs": []
    },
    {
      "cell_type": "code",
      "source": [
        "# Generate the second dataset (X2, y2)\n",
        "X2, y2 = simu_linreg(w_star, n, std=3., corr=0.1)"
      ],
      "metadata": {
        "id": "dy64tpGP8bc-"
      },
      "execution_count": 5,
      "outputs": []
    },
    {
      "cell_type": "markdown",
      "source": [
        "## Implementation 2.2"
      ],
      "metadata": {
        "id": "FHaBKDTZsoQJ"
      }
    },
    {
      "cell_type": "markdown",
      "source": [
        "Run gradient descent with and without regularization on the first instance, then compute the objective function corresponding to the second instance."
      ],
      "metadata": {
        "id": "qUD7FkjUsseh"
      }
    },
    {
      "cell_type": "markdown",
      "source": [
        "#### <span style=\"color:rgb(92,29,79)\">Answer to question</span>"
      ],
      "metadata": {
        "id": "Scte3l1JqwE7"
      }
    },
    {
      "cell_type": "code",
      "source": [
        "# Linear regression problem class\n",
        "class LinReg:\n",
        "    def __init__(self, X, y, lbda=0):\n",
        "        self.X = X\n",
        "        self.y = y\n",
        "        self.n, self.d = X.shape\n",
        "        self.lbda = lbda  # Regularization coefficient\n",
        "\n",
        "    # Compute objective function value\n",
        "    def fun(self, w):\n",
        "        return norm(self.X.dot(w) - self.y) ** 2 / (2. * self.n) + self.lbda * norm(w) ** 2 / 2.\n",
        "\n",
        "    # Compute gradient\n",
        "    def grad(self, w):\n",
        "        return self.X.T.dot(self.X.dot(w) - self.y) / self.n + self.lbda * w"
      ],
      "metadata": {
        "id": "t-aeyk-K8gBh"
      },
      "execution_count": 6,
      "outputs": []
    },
    {
      "cell_type": "code",
      "source": [
        "# Implementation of gradient descent\n",
        "def gradient_descent(problem, w_init, eta=0.1, num_iters=100):\n",
        "    w = w_init.copy()\n",
        "    obj_vals = []\n",
        "\n",
        "    for _ in range(num_iters):\n",
        "        grad = problem.grad(w)\n",
        "        w -= eta * grad\n",
        "        obj_vals.append(problem.fun(w))\n",
        "\n",
        "    return w, np.array(obj_vals)"
      ],
      "metadata": {
        "id": "hEMd-DFM8VCC"
      },
      "execution_count": 7,
      "outputs": []
    },
    {
      "cell_type": "code",
      "source": [
        "w_init = np.zeros(d)"
      ],
      "metadata": {
        "id": "Zw6N8nx_8RIO"
      },
      "execution_count": 8,
      "outputs": []
    },
    {
      "cell_type": "code",
      "source": [
        "# 1. No regularization\n",
        "pblinreg1_no_reg = LinReg(X1, y1, lbda=0)\n",
        "w_no_reg, obj_vals_no_reg = gradient_descent(pblinreg1_no_reg, w_init, eta=0.1, num_iters=100)"
      ],
      "metadata": {
        "id": "FPz6uqrI8OAQ"
      },
      "execution_count": 9,
      "outputs": []
    },
    {
      "cell_type": "code",
      "source": [
        "# 2. Moderate regularization (λ=0.1)\n",
        "pblinreg1_reg = LinReg(X1, y1, lbda=0.1)\n",
        "w_reg, obj_vals_reg = gradient_descent(pblinreg1_reg, w_init, eta=0.1, num_iters=100)"
      ],
      "metadata": {
        "id": "8Cp4HajZIAYY"
      },
      "execution_count": 10,
      "outputs": []
    },
    {
      "cell_type": "code",
      "source": [
        "# 3. Strong regularization (λ=1)\n",
        "pblinreg1_strong_reg = LinReg(X1, y1, lbda=1)\n",
        "w_strong_reg, obj_vals_strong_reg = gradient_descent(pblinreg1_strong_reg, w_init, eta=0.1, num_iters=100)"
      ],
      "metadata": {
        "id": "Jx8wILgPIDAx"
      },
      "execution_count": 11,
      "outputs": []
    },
    {
      "cell_type": "code",
      "source": [
        "def objective_function(problem, w):\n",
        "    return problem.fun(w)"
      ],
      "metadata": {
        "id": "vOmyqIcFIMt2"
      },
      "execution_count": 12,
      "outputs": []
    },
    {
      "cell_type": "code",
      "source": [
        "# Compute objective function value on the second dataset\n",
        "obj_no_reg = objective_function(LinReg(X2, y2, lbda=0), w_no_reg)\n",
        "obj_reg = objective_function(LinReg(X2, y2, lbda=0), w_reg)\n",
        "obj_strong_reg = objective_function(LinReg(X2, y2, lbda=0), w_strong_reg)\n",
        "\n",
        "print(f\"Objective function value without regularization: {obj_no_reg}\")\n",
        "print(f\"Objective function value with moderate regularization: {obj_reg}\")\n",
        "print(f\"Objective function value with strong regularization: {obj_strong_reg}\")"
      ],
      "metadata": {
        "colab": {
          "base_uri": "https://localhost:8080/"
        },
        "id": "_XY0eNo3IPBC",
        "outputId": "35e8e583-4d57-49f8-c868-5afa04e2935c"
      },
      "execution_count": 13,
      "outputs": [
        {
          "output_type": "stream",
          "name": "stdout",
          "text": [
            "Objective function value without regularization: 4.757613821798799\n",
            "Objective function value with moderate regularization: 4.711954330450649\n",
            "Objective function value with strong regularization: 5.09895385323397\n"
          ]
        }
      ]
    },
    {
      "cell_type": "code",
      "source": [
        "# Observe the impact of regularization on w\n",
        "print(\"w_no_reg mean:\", np.mean(w_no_reg))\n",
        "print(\"w_reg mean:\", np.mean(w_reg))\n",
        "print(\"w_strong_reg mean:\", np.mean(w_strong_reg))\n",
        "\n",
        "print(\"w_no_reg norm:\", np.linalg.norm(w_no_reg))\n",
        "print(\"w_reg norm:\", np.linalg.norm(w_reg))\n",
        "print(\"w_strong_reg norm:\", np.linalg.norm(w_strong_reg))"
      ],
      "metadata": {
        "colab": {
          "base_uri": "https://localhost:8080/"
        },
        "id": "qUOOHQzj8HMk",
        "outputId": "2a7a1b9c-e4e8-41d8-d702-61e090fc2fca"
      },
      "execution_count": 14,
      "outputs": [
        {
          "output_type": "stream",
          "name": "stdout",
          "text": [
            "w_no_reg mean: 0.0130842872016112\n",
            "w_reg mean: 0.012584096461874396\n",
            "w_strong_reg mean: 0.008462461715244117\n",
            "w_no_reg norm: 2.364494917376544\n",
            "w_reg norm: 2.0962742852472886\n",
            "w_strong_reg norm: 1.0593895000684184\n"
          ]
        }
      ]
    },
    {
      "cell_type": "code",
      "source": [
        "# Plot convergence curve\n",
        "plt.plot(obj_vals_no_reg, label=\"No Regularization\")\n",
        "plt.plot(obj_vals_reg, label=\"λ=0.1\")\n",
        "plt.plot(obj_vals_strong_reg, label=\"λ=1\")\n",
        "plt.xlabel(\"Iteration\")\n",
        "plt.ylabel(\"Objective Function Value\")\n",
        "plt.legend()\n",
        "plt.title(\"Gradient Descent Convergence with Different λ\")\n",
        "plt.show()"
      ],
      "metadata": {
        "colab": {
          "base_uri": "https://localhost:8080/",
          "height": 493
        },
        "id": "UjU22QqkId0I",
        "outputId": "e9db3036-c8fe-4d24-9d30-c8b82c112fbd"
      },
      "execution_count": 15,
      "outputs": [
        {
          "output_type": "display_data",
          "data": {
            "text/plain": [
              "<Figure size 640x480 with 1 Axes>"
            ],
            "image/png": "[encoded data removed]"
          },
          "metadata": {}
        }
      ]
    },
    {
      "cell_type": "markdown",
      "source": [
        "## Question 2.2"
      ],
      "metadata": {
        "id": "dGnb2BSi4cCD"
      }
    },
    {
      "cell_type": "markdown",
      "source": [
        "Do you observe that using regularization in the first instance improves the objective function of the second instance?"
      ],
      "metadata": {
        "id": "IZwcRvyp4a_u"
      }
    },
    {
      "cell_type": "markdown",
      "source": [
        "#### <span style=\"color:rgb(92,29,79)\">Answer to question</span>"
      ],
      "metadata": {
        "id": "YF3Md_C44wSk"
      }
    },
    {
      "cell_type": "markdown",
      "source": [
        "1️⃣ Observing the objective function values on the second dataset\n",
        "\n",
        " • The objective function value decreases slightly when using moderate regularization ($\\lambda = 0.1$), suggesting better generalization.\n",
        "\n",
        " • When too much regularization is applied ($\\lambda = 1$), the objective function value increases, indicating underfitting.\n"
      ],
      "metadata": {
        "id": "gKIW_eKX7O_O"
      }
    },
    {
      "cell_type": "markdown",
      "source": [
        "2️⃣ Observing the effect on model weights ($w$)\n",
        "\n",
        " • Regularization reduces the norm of the weight vector, which prevents overfitting.\n",
        "\n",
        " • Moderate regularization ($\\lambda = 0.1$) achieves a balance, maintaining a reasonable weight magnitude while avoiding extreme shrinking.\n",
        "\n",
        " • Strong regularization ($\\lambda = 1$) shrinks the weights too much, making the model less expressive, leading to higher loss."
      ],
      "metadata": {
        "id": "Mi4BF8J-75Rh"
      }
    },
    {
      "cell_type": "markdown",
      "source": [
        "💡 Conclusion:\n",
        "\n",
        "Yes, using moderate regularization ($\\lambda = 0.1$) improves the objective function value on the second dataset, showing better generalization.\n",
        "However, too much regularization ($\\lambda = 1$) leads to a worse performance due to underfitting."
      ],
      "metadata": {
        "id": "VmfuqtT777GX"
      }
    },
    {
      "cell_type": "markdown",
      "source": [
        "## Implementation 2.3"
      ],
      "metadata": {
        "id": "E5yyg1P5s4vw"
      }
    },
    {
      "cell_type": "markdown",
      "source": [
        "Reproduce the experiment of Question 2.2 using (batch) stochastic gradient instead of gradient descent."
      ],
      "metadata": {
        "id": "REksH5-_s_TZ"
      }
    },
    {
      "cell_type": "markdown",
      "source": [
        "#### <span style=\"color:rgb(92,29,79)\">Answer to question</span>"
      ],
      "metadata": {
        "id": "JGce08CGq1D9"
      }
    },
    {
      "cell_type": "code",
      "source": [
        "# (Question 2.3) Modified stochastic gradient descent (SGD)\n",
        "def stochastic_gradient_descent(problem, w_init, eta=0.1, num_iters=100, batch_size=10):\n",
        "    \"\"\"\n",
        "    Stochastic Gradient Descent (SGD) with minibatch updates.\n",
        "\n",
        "    Parameters:\n",
        "    - problem: LinReg instance (Include regularization parameter lambda)\n",
        "    - w_init: Initial weights\n",
        "    - eta: Learning rate\n",
        "    - num_iters: Number of iterations\n",
        "    - batch_size: Batch size for each update\n",
        "\n",
        "    Returns:\n",
        "    - w: Final learned weights\n",
        "    - obj_vals: Change of objective function value over iterations\n",
        "    \"\"\"\n",
        "    n, d = problem.X.shape\n",
        "    w = w_init.copy()\n",
        "    obj_vals = []\n",
        "\n",
        "    for _ in range(num_iters):\n",
        "        indices = np.random.choice(n, batch_size, replace=False)\n",
        "        X_batch, y_batch = problem.X[indices], problem.y[indices]\n",
        "\n",
        "        # Compute gradient (using problem.lbda as regularization parameter)\n",
        "        grad = X_batch.T.dot(X_batch.dot(w) - y_batch) / batch_size + problem.lbda * w\n",
        "        w -= eta * grad\n",
        "\n",
        "        obj_vals.append(problem.fun(w))\n",
        "\n",
        "    return w, np.array(obj_vals)"
      ],
      "metadata": {
        "id": "nYiI2rOL8FHs"
      },
      "execution_count": 16,
      "outputs": []
    },
    {
      "cell_type": "code",
      "source": [
        "# Reinitialize LinReg instance to ensure regularization parameter is applied\n",
        "pblinreg1_no_reg_sgd = LinReg(X1, y1, lbda=0)\n",
        "pblinreg1_reg_sgd = LinReg(X1, y1, lbda=0.1)\n",
        "pblinreg1_strong_reg_sgd = LinReg(X1, y1, lbda=1)"
      ],
      "metadata": {
        "id": "GlKfnBVc8DVE"
      },
      "execution_count": 17,
      "outputs": []
    },
    {
      "cell_type": "code",
      "source": [
        "# Run SGD without regularization\n",
        "w_no_reg_sgd, obj_vals_no_reg_sgd = stochastic_gradient_descent(pblinreg1_no_reg_sgd, w_init, eta=0.01, num_iters=1000)"
      ],
      "metadata": {
        "id": "qhZd57MuML_i"
      },
      "execution_count": 18,
      "outputs": []
    },
    {
      "cell_type": "code",
      "source": [
        "# Run SGD with moderate regularization (λ=0.1)\n",
        "w_reg_sgd, obj_vals_reg_sgd = stochastic_gradient_descent(pblinreg1_reg_sgd, w_init, eta=0.01, num_iters=1000)"
      ],
      "metadata": {
        "id": "KU5334hQ8Ba_"
      },
      "execution_count": 19,
      "outputs": []
    },
    {
      "cell_type": "code",
      "source": [
        "# Run SGD with strong regularization (λ=1)\n",
        "w_strong_reg_sgd, obj_vals_strong_reg_sgd = stochastic_gradient_descent(pblinreg1_strong_reg_sgd, w_init, eta=0.01, num_iters=1000)"
      ],
      "metadata": {
        "id": "L2jHzRQGMOHk"
      },
      "execution_count": 20,
      "outputs": []
    },
    {
      "cell_type": "code",
      "source": [
        "# Compute SGD objective function value on the second dataset\n",
        "obj_no_reg_sgd = objective_function(LinReg(X2, y2, lbda=0), w_no_reg_sgd)\n",
        "obj_reg_sgd = objective_function(LinReg(X2, y2, lbda=0), w_reg_sgd)\n",
        "obj_strong_reg_sgd = objective_function(LinReg(X2, y2, lbda=0), w_strong_reg_sgd)\n",
        "\n",
        "print(f\"Objective function value without regularization (SGD): {obj_no_reg_sgd}\")\n",
        "print(f\"Objective function value with moderate regularization (SGD): {obj_reg_sgd}\")\n",
        "print(f\"Objective function value with strong regularization (SGD): {obj_strong_reg_sgd}\")"
      ],
      "metadata": {
        "colab": {
          "base_uri": "https://localhost:8080/"
        },
        "id": "w8atDH7W7-ip",
        "outputId": "5a47a507-405e-4a53-ac41-0ed19eb0ab16"
      },
      "execution_count": 21,
      "outputs": [
        {
          "output_type": "stream",
          "name": "stdout",
          "text": [
            "Objective function value without regularization (SGD): 4.862589538885371\n",
            "Objective function value with moderate regularization (SGD): 4.785939578511017\n",
            "Objective function value with strong regularization (SGD): 5.089479687763006\n"
          ]
        }
      ]
    },
    {
      "cell_type": "code",
      "source": [
        "# Plot SGD convergence curve\n",
        "plt.plot(obj_vals_no_reg_sgd, label=\"No Regularization (SGD)\")\n",
        "plt.plot(obj_vals_reg_sgd, label=\"λ=0.1 (SGD)\")\n",
        "plt.plot(obj_vals_strong_reg_sgd, label=\"λ=1 (SGD)\")\n",
        "plt.xlabel(\"Iteration\")\n",
        "plt.ylabel(\"Objective Function Value\")\n",
        "plt.legend()\n",
        "plt.title(\"Stochastic Gradient Descent Convergence with Different λ\")\n",
        "plt.show()"
      ],
      "metadata": {
        "colab": {
          "base_uri": "https://localhost:8080/",
          "height": 493
        },
        "id": "cbf_f1Eb77Nh",
        "outputId": "b1ba2597-65f5-4d27-be70-670f8700d88b"
      },
      "execution_count": 22,
      "outputs": [
        {
          "output_type": "display_data",
          "data": {
            "text/plain": [
              "<Figure size 640x480 with 1 Axes>"
            ],
            "image/png": "[encoded data removed]"
          },
          "metadata": {}
        }
      ]
    },
    {
      "cell_type": "markdown",
      "source": [
        "#  3 Binary classification on real-world data"
      ],
      "metadata": {
        "id": "2HUuU-SBDr-W"
      }
    },
    {
      "cell_type": "markdown",
      "source": [
        "In this final part, we will apply our techniques to a classification problem based on real-world data."
      ],
      "metadata": {
        "id": "VsxsRagU0MoU"
      }
    },
    {
      "cell_type": "markdown",
      "source": [
        "## 3.1 Dataset"
      ],
      "metadata": {
        "id": "5OIF3ZcQ0cWT"
      }
    },
    {
      "cell_type": "markdown",
      "source": [
        "We will rely on datasets from the libsvm repository, that can be downloaded from\n",
        "\n",
        "https://www.csie.ntu.edu.tw/∼cjlin/libsvmtools/datasets/\n",
        "\n",
        "Recommended datasets are a9a,covtype.binary,ijcnn1. To load the dataset in Python, students may use the routine from the scikit-learn library.\n",
        "\n",
        "`sklearn.datasets.load svmlight file`"
      ],
      "metadata": {
        "id": "GjOkfuBR0mx7"
      }
    },
    {
      "cell_type": "markdown",
      "source": [
        "###Implementation 3.1"
      ],
      "metadata": {
        "id": "iv2kD1Kr1k7Q"
      }
    },
    {
      "cell_type": "markdown",
      "source": [
        "Select a dataset from the libsvm repository. The dataset should have at least 20 features and 1,000 training samples. It should also have both a training set (used for optimization) and a testing set."
      ],
      "metadata": {
        "id": "oKeUBi1A1urS"
      }
    },
    {
      "cell_type": "markdown",
      "source": [
        "#### <span style=\"color:rgb(92,29,79)\">Answer to question</span>"
      ],
      "metadata": {
        "id": "Dr4IYC1ztPi4"
      }
    },
    {
      "cell_type": "code",
      "source": [
        "from sklearn.datasets import load_svmlight_file\n",
        "from sklearn.preprocessing import StandardScaler\n",
        "from sklearn.model_selection import train_test_split\n",
        "from scipy.sparse import hstack"
      ],
      "metadata": {
        "id": "iYVXUL30DHDH"
      },
      "execution_count": 23,
      "outputs": []
    },
    {
      "cell_type": "code",
      "source": [
        "# Download the dataset to local storage\n",
        "!wget -q https://www.csie.ntu.edu.tw/~cjlin/libsvmtools/datasets/binary/a9a -O a9a\n",
        "!wget -q https://www.csie.ntu.edu.tw/~cjlin/libsvmtools/datasets/binary/a9a.t -O a9a.t"
      ],
      "metadata": {
        "id": "zRtTsihddoh1"
      },
      "execution_count": 24,
      "outputs": []
    },
    {
      "cell_type": "code",
      "source": [
        "# Load training and testing data\n",
        "X_train, y_train = load_svmlight_file(\"a9a\")\n",
        "X_test, y_test = load_svmlight_file(\"a9a.t\")"
      ],
      "metadata": {
        "id": "fcrBedz2b2Yk"
      },
      "execution_count": 25,
      "outputs": []
    },
    {
      "cell_type": "code",
      "source": [
        "# Check data dimensions\n",
        "print(f\"Training set X shape: {X_train.shape}, y shape: {y_train.shape}\")\n",
        "print(f\"Testing set X shape: {X_test.shape}, y shape: {y_test.shape}\")"
      ],
      "metadata": {
        "colab": {
          "base_uri": "https://localhost:8080/"
        },
        "id": "WX9Dpqlzgntm",
        "outputId": "e3e9d478-1541-448e-e696-a460f358aa0c"
      },
      "execution_count": 26,
      "outputs": [
        {
          "output_type": "stream",
          "name": "stdout",
          "text": [
            "Training set X shape: (32561, 123), y shape: (32561,)\n",
            "Testing set X shape: (16281, 122), y shape: (16281,)\n"
          ]
        }
      ]
    },
    {
      "cell_type": "code",
      "source": [
        "# Check and pad missing features in the test set\n",
        "train_dim = X_train.shape[1]\n",
        "test_dim = X_test.shape[1]\n",
        "if test_dim < train_dim:\n",
        "    missing_features = train_dim - test_dim\n",
        "    print(f\"Test set has {missing_features} fewer features than the training set, automatically filling with zeros\")\n",
        "    # Fill missing features with zeros to match training set feature count\n",
        "    X_test = hstack([X_test, np.zeros((X_test.shape[0], missing_features))])\n",
        "    print(f\"Fixed test set X shape: {X_test.shape}\")"
      ],
      "metadata": {
        "colab": {
          "base_uri": "https://localhost:8080/"
        },
        "id": "YXnovjP1gt71",
        "outputId": "a06144d9-a1c2-4416-e765-2dad868b6d52"
      },
      "execution_count": 27,
      "outputs": [
        {
          "output_type": "stream",
          "name": "stdout",
          "text": [
            "Test set has 1 fewer features than the training set, automatically filling with zeros\n",
            "Fixed test set X shape: (16281, 123)\n"
          ]
        }
      ]
    },
    {
      "cell_type": "code",
      "source": [
        "# Convert to NumPy array\n",
        "X_train = X_train.toarray()\n",
        "X_test = X_test.toarray()"
      ],
      "metadata": {
        "id": "186orHngb5yB"
      },
      "execution_count": 28,
      "outputs": []
    },
    {
      "cell_type": "code",
      "source": [
        "# Standardize data\n",
        "scaler = StandardScaler()\n",
        "X_train = scaler.fit_transform(X_train)\n",
        "X_test = scaler.transform(X_test)"
      ],
      "metadata": {
        "id": "iUL_CKhEb71d"
      },
      "execution_count": 29,
      "outputs": []
    },
    {
      "cell_type": "code",
      "source": [
        "# Split training & validation sets (80% training, 20% validation)\n",
        "X_train, X_val, y_train, y_val = train_test_split(X_train, y_train, test_size=0.2, random_state=42)"
      ],
      "metadata": {
        "id": "7zPu117Tb9a_"
      },
      "execution_count": 30,
      "outputs": []
    },
    {
      "cell_type": "code",
      "source": [
        "# Output data shapes\n",
        "print(f\"Training set: {X_train.shape}, Validation set: {X_val.shape}, Test set: {X_test.shape}\")"
      ],
      "metadata": {
        "colab": {
          "base_uri": "https://localhost:8080/"
        },
        "id": "RsPXirkib_SA",
        "outputId": "df3a3761-8b6d-4863-9923-e829af96a723"
      },
      "execution_count": 31,
      "outputs": [
        {
          "output_type": "stream",
          "name": "stdout",
          "text": [
            "Training set: (26048, 123), Validation set: (6513, 123), Test set: (16281, 123)\n"
          ]
        }
      ]
    },
    {
      "cell_type": "markdown",
      "source": [
        "## 3.2 Optimization problem"
      ],
      "metadata": {
        "id": "pk7B5coR1DJG"
      }
    },
    {
      "cell_type": "markdown",
      "source": [
        "Let $ \\{(x_i, y_i)\\}_{i=1}^{n} $ denote the samples from the training set of the dataset. We formulate the following finite-sum optimization problem:\n",
        "\n",
        "$$\n",
        "\\min_{w \\in \\mathbb{R}^d} g(w) := \\frac{1}{n} \\sum_{i=1}^{n} g_i(w), \\quad g_i(w) := \\left( y_i - \\frac{1}{1 + \\exp(-x_i^T w)} \\right)^2\n",
        "$$\n",
        "\n",
        "where this problem is nonconvex in general. The function $ t \\mapsto \\frac{1}{1+\\exp(-t)} $ is called the sigmoid function. For any $ i = 1, \\dots, n $, the function $ g_i $ is $ \\mathcal{C}^1 $, with its gradient given by:\n",
        "\n",
        "$$\n",
        "\\nabla g_i(w) = - \\frac{2 \\exp(x_i^T w) \\left( \\exp(x_i^T w)(y - 1) + y \\right)}{(1 + \\exp(x_i^T w))^3} x_i\n",
        "$$"
      ],
      "metadata": {
        "id": "zdTvuACh2KNO"
      }
    },
    {
      "cell_type": "markdown",
      "source": [
        "###Implementation 3.2"
      ],
      "metadata": {
        "id": "-62lRVMm1NoD"
      }
    },
    {
      "cell_type": "markdown",
      "source": [
        "Given your dataset, implement the associated codes for $ g_S $, $ \\nabla g_S $, where $ S $ is a set of random indices in $ \\{1, \\dots, n\\} $.\n",
        "\n",
        "In addition to the optimization problem above, we will be interested in the **generalization capabilities** of the model obtained by solving problem (7). Let $ \\{(\\tilde{x}_i, \\tilde{y}_i)\\}_{i=1}^{m} $ denote the samples from the **testing set**. Given a vector $ w \\in \\mathbb{R}^d $, our goal is to obtain a good value for:\n",
        "\n",
        "$$\n",
        "\\tilde{g}(w) = \\frac{1}{m} \\sum_{i=1}^{m} \\left( \\tilde{y}_i - \\frac{1}{1 + \\exp(-\\tilde{x}_i^T w)} \\right)^2\n",
        "$$\n",
        "\n",
        "Since the training and testing datasets are supposed to originate from the same distribution, we expect that a solution to problem (7) will have good performance on the testing dataset, i.e., will yield a **low value of** $ \\tilde{g}(w) $."
      ],
      "metadata": {
        "id": "MtfirnxY2uNT"
      }
    },
    {
      "cell_type": "markdown",
      "source": [
        "#### <span style=\"color:rgb(92,29,79)\">Answer to question</span>"
      ],
      "metadata": {
        "id": "bsjvs-_ztSXo"
      }
    },
    {
      "cell_type": "code",
      "source": [
        "def sigmoid(z):\n",
        "    return 1 / (1 + np.exp(-z))"
      ],
      "metadata": {
        "id": "PxiNdAoVcFFQ"
      },
      "execution_count": 32,
      "outputs": []
    },
    {
      "cell_type": "code",
      "source": [
        "def loss_gradient(X, y, w):\n",
        "    \"\"\"Compute gradient of squared loss\"\"\"\n",
        "    pred = sigmoid(X @ w)\n",
        "    error = (y - pred)\n",
        "    grad = -2 * (X.T @ (error * pred * (1 - pred))) / len(y)\n",
        "    return grad"
      ],
      "metadata": {
        "id": "bVMLPmJ_cHo7"
      },
      "execution_count": 33,
      "outputs": []
    },
    {
      "cell_type": "code",
      "source": [
        "def stochastic_gradient_descent(X, y, w_init, eta=0.1, lambda_=0, num_iters=100, batch_size=20):\n",
        "    \"\"\"SGD for logistic regression with L2 regularization\"\"\"\n",
        "    n, d = X.shape\n",
        "    w = w_init.copy()\n",
        "    obj_vals = []\n",
        "\n",
        "    for _ in range(num_iters):\n",
        "        indices = np.random.choice(n, batch_size, replace=False)\n",
        "        X_batch, y_batch = X[indices], y[indices]\n",
        "\n",
        "        # Compute gradient\n",
        "        grad = loss_gradient(X_batch, y_batch, w) + lambda_ * w\n",
        "        w -= eta * grad  # Update parameters\n",
        "\n",
        "        # Record objective function value\n",
        "        obj_vals.append(np.mean((y - sigmoid(X @ w))**2) + (lambda_ / 2) * np.linalg.norm(w)**2)\n",
        "\n",
        "    return w, np.array(obj_vals)"
      ],
      "metadata": {
        "id": "MtNQhiSXcJwz"
      },
      "execution_count": 34,
      "outputs": []
    },
    {
      "cell_type": "code",
      "source": [
        "# Train initial model\n",
        "w_init = np.zeros(X_train.shape[1])\n",
        "base_model, _ = stochastic_gradient_descent(X_train, y_train, w_init, eta=0.1, lambda_=0, num_iters=1000)"
      ],
      "metadata": {
        "id": "urvOwa8CuSnv"
      },
      "execution_count": 35,
      "outputs": []
    },
    {
      "cell_type": "code",
      "source": [
        "# Compute test set error\n",
        "test_mse = np.mean((y_test - sigmoid(X_test @ base_model)) ** 2)\n",
        "print(f\"Model test set MSE: {test_mse}\")"
      ],
      "metadata": {
        "colab": {
          "base_uri": "https://localhost:8080/"
        },
        "id": "BR_md7rTuG95",
        "outputId": "f2eb00f7-037f-4b99-c55c-63737cecd39a"
      },
      "execution_count": 36,
      "outputs": [
        {
          "output_type": "stream",
          "name": "stdout",
          "text": [
            "Model test set MSE: 1.139288448189456\n"
          ]
        }
      ]
    },
    {
      "cell_type": "markdown",
      "source": [
        "## 3.3 Comparison of the algorithms"
      ],
      "metadata": {
        "id": "T1UwM_E-1HvB"
      }
    },
    {
      "cell_type": "markdown",
      "source": [
        "Our goal is now to assess the interest of **$ \\ell_2 $ regularization** for this problem. We will thus consider the family of problems:\n",
        "\n",
        "$$\n",
        "\\min_{w \\in \\mathbb{R}^d} g(w) + \\frac{\\lambda}{2} \\|w\\|^2.\n",
        "$$\n"
      ],
      "metadata": {
        "id": "1PLVOYbv1ScU"
      }
    },
    {
      "cell_type": "markdown",
      "source": [
        "### Implementation 3.3"
      ],
      "metadata": {
        "id": "LP7b61jH3b52"
      }
    },
    {
      "cell_type": "markdown",
      "source": [
        "Implement (batch) stochastic gradient for problem (10), and run the method for several values of the regularization parameter."
      ],
      "metadata": {
        "id": "JJ5aqGxa3eek"
      }
    },
    {
      "cell_type": "markdown",
      "source": [
        "#### <span style=\"color:rgb(92,29,79)\">Answer to question</span>"
      ],
      "metadata": {
        "id": "Raof7XA4xC-T"
      }
    },
    {
      "cell_type": "code",
      "source": [
        "# Select the optimal λ from [0, 0.001, 0.01, 0.1, 1, 10]\n",
        "def cross_validation(lambda_values, X_train, y_train, X_val, y_val, eta=0.1, num_iters=100):\n",
        "    \"\"\"Compute MSE on the validation set\"\"\"\n",
        "    results = {}\n",
        "    best_lambda = None\n",
        "    min_mse = float(\"inf\")\n",
        "\n",
        "    for lambda_ in lambda_values:\n",
        "        w_init = np.zeros(X_train.shape[1])\n",
        "        w, _ = stochastic_gradient_descent(X_train, y_train, w_init, eta=eta, lambda_=lambda_, num_iters=num_iters)\n",
        "\n",
        "        # Compute MSE on the validation set\n",
        "        mse_val = np.mean((y_val - sigmoid(X_val @ w)) ** 2)\n",
        "        results[lambda_] = mse_val\n",
        "\n",
        "        if mse_val < min_mse:\n",
        "            min_mse = mse_val\n",
        "            best_lambda = lambda_\n",
        "\n",
        "    return best_lambda, results"
      ],
      "metadata": {
        "id": "-mdCXHz4cOPe"
      },
      "execution_count": 37,
      "outputs": []
    },
    {
      "cell_type": "code",
      "source": [
        "# Run cross-validation：\n",
        "lambda_values = [0, 0.001, 0.01, 0.1, 1, 10]\n",
        "best_lambda, val_results = cross_validation(lambda_values, X_train, y_train, X_val, y_val, 0.1, 1000)\n",
        "\n",
        "print(\"Cross-validation results:\")\n",
        "for lbda, mse_val in val_results.items():\n",
        "    print(f\"λ={lbda}: Validation set MSE = {mse_val}\")\n",
        "\n",
        "print(f\"Best λ = {best_lambda}\")"
      ],
      "metadata": {
        "colab": {
          "base_uri": "https://localhost:8080/"
        },
        "id": "YLszR8O9cVcU",
        "outputId": "dafb9aa1-7b21-49cd-b7fe-5aedc675f458"
      },
      "execution_count": 38,
      "outputs": [
        {
          "output_type": "stream",
          "name": "stdout",
          "text": [
            "Cross-validation results:\n",
            "λ=0: Validation set MSE = 1.1564465452046797\n",
            "λ=0.001: Validation set MSE = 1.1053716017735322\n",
            "λ=0.01: Validation set MSE = 1.178661857630066\n",
            "λ=0.1: Validation set MSE = 1.4348094215138516\n",
            "λ=1: Validation set MSE = 1.6268570759481014\n",
            "λ=10: Validation set MSE = 1.7570751276641177\n",
            "Best λ = 0.001\n"
          ]
        }
      ]
    },
    {
      "cell_type": "markdown",
      "source": [
        "**Observation**:\n",
        "\n",
        " • On the validation set, MSE initially decreases as $\\lambda$ increases but then starts to rise.\n",
        "\n",
        " • The lowest validation MSE is achieved when $\\lambda$ = 0.001 with a value of 1.105, which is better than the unregularized model ($\\lambda$ = 0) with MSE 1.156.\n",
        "\n",
        " • As $\\lambda$ increases further ($\\lambda$ = 0.1, 1, 10), validation MSE rises, indicating that excessive regularization reduces the model’s generalization ability."
      ],
      "metadata": {
        "id": "xNEzeGLE_mcJ"
      }
    },
    {
      "cell_type": "code",
      "source": [
        "# Train the final model\n",
        "w_init = np.zeros(X_train.shape[1])\n",
        "best_model, _ = stochastic_gradient_descent(X_train, y_train, w_init, eta=0.1, lambda_=best_lambda, num_iters=1000)"
      ],
      "metadata": {
        "id": "GNyq59CkchN2"
      },
      "execution_count": 39,
      "outputs": []
    },
    {
      "cell_type": "code",
      "source": [
        "# Compute test set error\n",
        "test_mse = np.mean((y_test - sigmoid(X_test @ best_model)) ** 2)\n",
        "print(f\"Final model test set MSE: {test_mse}\")"
      ],
      "metadata": {
        "colab": {
          "base_uri": "https://localhost:8080/"
        },
        "id": "1Szi9JHkckgg",
        "outputId": "f481e883-8a28-48af-8927-9d37e2f28b0d"
      },
      "execution_count": 40,
      "outputs": [
        {
          "output_type": "stream",
          "name": "stdout",
          "text": [
            "Final model test set MSE: 1.107808378092372\n"
          ]
        }
      ]
    },
    {
      "cell_type": "code",
      "source": [
        "plt.figure(figsize=(8, 5))\n",
        "for lambda_ in lambda_values:\n",
        "    w_init = np.zeros(X_train.shape[1])\n",
        "    _, obj_vals = stochastic_gradient_descent(X_train, y_train, w_init, eta=0.1, lambda_=lambda_, num_iters=1000)\n",
        "    plt.plot(obj_vals, label=f\"λ={lambda_}\")\n",
        "\n",
        "plt.xlabel(\"Iteration\")\n",
        "plt.ylabel(\"Objective Function Value\")\n",
        "plt.legend()\n",
        "plt.title(\"SGD Convergence with Different λ\")\n",
        "plt.show()"
      ],
      "metadata": {
        "colab": {
          "base_uri": "https://localhost:8080/",
          "height": 508
        },
        "id": "9gKC8sQ_cmsB",
        "outputId": "4b40998c-d502-4a29-8687-121e2404030c"
      },
      "execution_count": 41,
      "outputs": [
        {
          "output_type": "display_data",
          "data": {
            "text/plain": [
              "<Figure size 800x500 with 1 Axes>"
            ],
            "image/png": "[encoded data removed]"
          },
          "metadata": {}
        }
      ]
    },
    {
      "cell_type": "markdown",
      "source": [
        "**Observation**:\n",
        "\n",
        " • When $\\lambda$ is small ($\\lambda$ = 0, 0.001, 0.01), the objective function value is lower, and convergence is faster.\n",
        "\n",
        " • As $\\lambda$ increases ($\\lambda$ = 0.1, 1, 10), convergence slows down, and the final objective function value is higher. In particular, for $\\lambda$ = 10, the function exhibits severe oscillations, indicating that strong regularization negatively impacts optimization."
      ],
      "metadata": {
        "id": "46H5Lzcq_WjO"
      }
    },
    {
      "cell_type": "markdown",
      "source": [
        "### Question 3.3"
      ],
      "metadata": {
        "id": "xbQifXWR3jbl"
      }
    },
    {
      "cell_type": "markdown",
      "source": [
        "Compare the final values of the data-fitting term $ g $ for all methods, as well as that of the testing loss $ \\tilde{g} $. Can you find a value for $ \\lambda $ that improves the testing error compared to $ \\lambda = 0 $?"
      ],
      "metadata": {
        "id": "xrG5NuI23xCq"
      }
    },
    {
      "cell_type": "markdown",
      "source": [
        "#### <span style=\"color:rgb(92,29,79)\">Answer to question</span>"
      ],
      "metadata": {
        "id": "pXwODQSm8NyU"
      }
    },
    {
      "cell_type": "markdown",
      "source": [
        "Yes, according to the cross-validation results, $\\lambda$ = 0.001 provides a lower test error than $\\lambda$ = 0. This demonstrates that mild $\\ell_2$ regularization helps reduce overfitting and improves generalization performance.\n",
        "\n",
        " 1. Moderate regularization ($\\lambda$ = 0.001) enhances generalization, leading to lower test error compared to no regularization.\n",
        " 2. Excessive regularization ($\\lambda$ = 10) makes the model overly simplistic, reducing its ability to fit data and increasing test error.\n",
        " 3. The best regularization parameter $\\lambda$ should be selected through cross-validation rather than being arbitrarily fixed.\n",
        "\n",
        "In this experiment, $\\lambda$ = 0.001 was found to be the optimal value, achieving the lowest Mean Squared Error (MSE) on the test set."
      ],
      "metadata": {
        "id": "YG35GtpY_EBE"
      }
    }
  ]
}